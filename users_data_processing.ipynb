{
 "cells": [
  {
   "cell_type": "code",
   "execution_count": 1,
   "id": "c07aff90-ae0d-4ea5-820d-1ef27eea8777",
   "metadata": {},
   "outputs": [],
   "source": [
    "import gzip\n",
    "from tqdm import tqdm, trange\n",
    "import numpy as np\n",
    "import matplotlib.pyplot as plt\n",
    "from sklearn import metrics\n",
    "from sklearn.neighbors import BallTree\n",
    "import pickle\n",
    "from geopy.geocoders import Nominatim\n",
    "import reverse_geocode as rg\n",
    "import geopy.distance"
   ]
  },
  {
   "cell_type": "code",
   "execution_count": 2,
   "id": "9b63fabe-1014-4cc0-b29e-6247dbedc324",
   "metadata": {},
   "outputs": [],
   "source": [
    "places_file = \"places.clean.json.gz\"\n",
    "users_file = \"users.clean.json.gz\"\n",
    "reviews_file = \"reviews.clean.json.gz\""
   ]
  },
  {
   "cell_type": "code",
   "execution_count": 3,
   "id": "2eed9d7c-dcd0-46fd-b100-ae2c41695fdd",
   "metadata": {},
   "outputs": [],
   "source": [
    "def parse(path):\n",
    "    for l in gzip.open(path, 'rt'):\n",
    "        yield eval(l)\n",
    "#     g = gzip.open(path, 'r')\n",
    "#     for l in g:\n",
    "#         yield eval(l)"
   ]
  },
  {
   "cell_type": "code",
   "execution_count": 4,
   "id": "fe7a35bc-f178-4080-96cc-6e9252bb320e",
   "metadata": {},
   "outputs": [],
   "source": [
    "places_data = []"
   ]
  },
  {
   "cell_type": "code",
   "execution_count": 5,
   "id": "85e76949-178e-430a-ad3b-742ce881083f",
   "metadata": {},
   "outputs": [],
   "source": [
    "users_data = []"
   ]
  },
  {
   "cell_type": "code",
   "execution_count": 6,
   "id": "0a6e6b89-07cd-4b77-b785-654a428175a2",
   "metadata": {},
   "outputs": [],
   "source": [
    "reviews_data = []"
   ]
  },
  {
   "cell_type": "code",
   "execution_count": 7,
   "id": "e4a5f54a-2540-4ae0-aeed-d47a9f230290",
   "metadata": {},
   "outputs": [
    {
     "name": "stderr",
     "output_type": "stream",
     "text": [
      "3114353it [03:29, 14864.93it/s]\n"
     ]
    }
   ],
   "source": [
    "for l in tqdm(parse(places_file)):\n",
    "    places_data.append(l)"
   ]
  },
  {
   "cell_type": "code",
   "execution_count": 8,
   "id": "221dcd48-84af-431e-a5ad-e641182d4090",
   "metadata": {},
   "outputs": [
    {
     "name": "stderr",
     "output_type": "stream",
     "text": [
      "3747937it [12:59, 4810.55it/s] \n"
     ]
    }
   ],
   "source": [
    "for l in tqdm(parse(users_file)):\n",
    "    users_data.append(l)"
   ]
  },
  {
   "cell_type": "code",
   "execution_count": 9,
   "id": "39e4790b-6183-4553-8dd9-f55e96a5233b",
   "metadata": {},
   "outputs": [],
   "source": [
    "# for l in tqdm(parse(reviews_file)):\n",
    "#     reviews_data.append(l)"
   ]
  },
  {
   "cell_type": "code",
   "execution_count": 9,
   "id": "04ee7342-3e67-4aaf-9204-cc55a054a877",
   "metadata": {},
   "outputs": [
    {
     "data": {
      "text/plain": [
       "{'name': 'Diamond Valley Lake Marina',\n",
       " 'price': None,\n",
       " 'address': ['2615 Angler Ave', 'Hemet, CA 92545'],\n",
       " 'hours': [['Monday', [['6:30 am--4:15 pm']]],\n",
       "  ['Tuesday', [['6:30 am--4:15 pm']]],\n",
       "  ['Wednesday', [['6:30 am--4:15 pm']], 1],\n",
       "  ['Thursday', [['6:30 am--4:15 pm']]],\n",
       "  ['Friday', [['6:30 am--4:15 pm']]],\n",
       "  ['Saturday', [['6:30 am--4:15 pm']]],\n",
       "  ['Sunday', [['6:30 am--4:15 pm']]]],\n",
       " 'phone': '(951) 926-7201',\n",
       " 'closed': False,\n",
       " 'gPlusPlaceId': '104699454385822125632',\n",
       " 'gps': [33.703804, -117.003209]}"
      ]
     },
     "execution_count": 9,
     "metadata": {},
     "output_type": "execute_result"
    }
   ],
   "source": [
    "places_data[0]"
   ]
  },
  {
   "cell_type": "code",
   "execution_count": 10,
   "id": "00a0a617",
   "metadata": {},
   "outputs": [
    {
     "data": {
      "text/plain": [
       "{'userName': 'Thomas Weingart',\n",
       " 'jobs': None,\n",
       " 'currentPlace': ['Winterbach', [[], 487988280, 94809220, 1]],\n",
       " 'previousPlaces': None,\n",
       " 'education': [[[], [], [], [], [], 6], []],\n",
       " 'gPlusUserId': '100000142643769001873'}"
      ]
     },
     "execution_count": 10,
     "metadata": {},
     "output_type": "execute_result"
    }
   ],
   "source": [
    "users_data[32]"
   ]
  },
  {
   "cell_type": "code",
   "execution_count": 11,
   "id": "6af7683c-ee25-4e58-ac19-0ba758e35fa4",
   "metadata": {},
   "outputs": [],
   "source": [
    "# reviews_data[100:200]"
   ]
  },
  {
   "cell_type": "code",
   "execution_count": 12,
   "id": "53e9cbf3",
   "metadata": {},
   "outputs": [],
   "source": [
    "from geopy.geocoders import Nominatim\n",
    "import reverse_geocode as rg"
   ]
  },
  {
   "cell_type": "code",
   "execution_count": 13,
   "id": "32301b53",
   "metadata": {},
   "outputs": [],
   "source": [
    "geolocator = Nominatim(user_agent=\"geoapiExercises\")"
   ]
  },
  {
   "cell_type": "code",
   "execution_count": 14,
   "id": "16ce165e",
   "metadata": {},
   "outputs": [
    {
     "name": "stderr",
     "output_type": "stream",
     "text": [
      "100%|█████████████████████████████| 3747937/3747937 [00:31<00:00, 117713.08it/s]\n"
     ]
    }
   ],
   "source": [
    "countries_dict = {}\n",
    "for i in tqdm(range(len(users_data))):\n",
    "    if users_data[i]['currentPlace'] is not None:\n",
    "        if len(users_data[i]['currentPlace'])>1:\n",
    "            latitude = users_data[i]['currentPlace'][1][1]/10**7\n",
    "            longitude = users_data[i]['currentPlace'][1][2]/10**7\n",
    "#             location = geolocator.reverse(latitude+\",\"+longitude)\n",
    "            coord = (latitude , longitude)\n",
    "#             print(coord)\n",
    "            pos = rg.search([coord])\n",
    "            country = pos[0]['country']\n",
    "#             address = location.raw['address']\n",
    "            if country not in countries_dict:\n",
    "                countries_dict[country] = 1\n",
    "            else:\n",
    "                countries_dict[country] += 1\n",
    "#             print(users_data[i]['currentPlace'][1])\n",
    "#     if count > 100:\n",
    "#         break\n",
    "# print(count)"
   ]
  },
  {
   "cell_type": "code",
   "execution_count": 15,
   "id": "fa58d037-8368-49a5-be21-c703d54807fe",
   "metadata": {},
   "outputs": [
    {
     "data": {
      "text/plain": [
       "243"
      ]
     },
     "execution_count": 15,
     "metadata": {},
     "output_type": "execute_result"
    }
   ],
   "source": [
    "len(countries_dict)"
   ]
  },
  {
   "cell_type": "code",
   "execution_count": 16,
   "id": "ed925d88",
   "metadata": {},
   "outputs": [],
   "source": [
    "# for i in range(len(users_data)):\n",
    "#     print(users_data[i]['jobs'])"
   ]
  },
  {
   "cell_type": "code",
   "execution_count": 17,
   "id": "aa3ffc65",
   "metadata": {},
   "outputs": [
    {
     "data": {
      "text/plain": [
       "{'userName': 'HALİL TURGUT',\n",
       " 'jobs': [['Mustafa Nevzat İlaç San. A.Ş.', 'Rebrezant', [], '', '']],\n",
       " 'currentPlace': ['Adana', [[], 370000000, 353213330, 1]],\n",
       " 'previousPlaces': None,\n",
       " 'education': [[[], [], [], [], [], 6],\n",
       "  [['Anadolu University',\n",
       "    '',\n",
       "    [[], [1, 1, 2001]],\n",
       "    'http://www.freebase.com/view/m/064f68',\n",
       "    '']]],\n",
       " 'gPlusUserId': '100000013500285534661'}"
      ]
     },
     "execution_count": 17,
     "metadata": {},
     "output_type": "execute_result"
    }
   ],
   "source": [
    "users_data[1]"
   ]
  },
  {
   "cell_type": "code",
   "execution_count": 18,
   "id": "71a7e8f4",
   "metadata": {},
   "outputs": [],
   "source": [
    "countries_count = []\n",
    "for country in countries_dict:\n",
    "    countries_count.append((countries_dict[country], country))"
   ]
  },
  {
   "cell_type": "code",
   "execution_count": 19,
   "id": "ba9e585f",
   "metadata": {},
   "outputs": [],
   "source": [
    "countries_count.sort(reverse = True)"
   ]
  },
  {
   "cell_type": "code",
   "execution_count": 20,
   "id": "c01ff612",
   "metadata": {},
   "outputs": [
    {
     "data": {
      "text/plain": [
       "[(340400, 'United States'),\n",
       " (52230, 'India'),\n",
       " (30856, 'United Kingdom'),\n",
       " (24440, 'Canada'),\n",
       " (22614, 'Brazil'),\n",
       " (19116, 'Germany'),\n",
       " (17503, 'Spain'),\n",
       " (14919, 'Italy'),\n",
       " (14276, 'France'),\n",
       " (11512, 'Australia'),\n",
       " (10689, 'Russian Federation'),\n",
       " (8497, 'Mexico'),\n",
       " (8303, 'Taiwan'),\n",
       " (7990, 'Indonesia'),\n",
       " (7065, 'Poland'),\n",
       " (5987, 'Argentina'),\n",
       " (5575, 'Japan'),\n",
       " (5414, 'Netherlands'),\n",
       " (5284, 'Ukraine'),\n",
       " (5225, 'Colombia'),\n",
       " (4963, 'Saudi Arabia'),\n",
       " (4955, 'Turkey'),\n",
       " (4397, 'Vietnam'),\n",
       " (4332, 'Czech Republic'),\n",
       " (3700, 'Thailand'),\n",
       " (3420, 'China'),\n",
       " (3287, 'Malaysia'),\n",
       " (3148, 'Peru'),\n",
       " (3109, 'Egypt'),\n",
       " (3071, 'Pakistan'),\n",
       " (2923, 'Sweden'),\n",
       " (2710, 'Portugal'),\n",
       " (2578, 'Romania'),\n",
       " (2535, 'Bangladesh'),\n",
       " (2508, 'Belgium'),\n",
       " (2306, 'Denmark'),\n",
       " (2304, 'Switzerland'),\n",
       " (2267, 'United Arab Emirates'),\n",
       " (2238, 'Venezuela'),\n",
       " (2150, 'Iraq'),\n",
       " (2144, 'Chile'),\n",
       " (2113, 'Hungary'),\n",
       " (2029, 'Iran, Islamic Republic of'),\n",
       " (1979, 'Austria'),\n",
       " (1865, 'Norway'),\n",
       " (1836, 'Korea, Republic of'),\n",
       " (1805, 'Philippines'),\n",
       " (1738, 'New Zealand'),\n",
       " (1675, 'South Africa'),\n",
       " (1598, 'Ireland'),\n",
       " (1445, 'Bulgaria'),\n",
       " (1416, 'Ecuador'),\n",
       " (1364, 'Singapore'),\n",
       " (1324, 'Hong Kong'),\n",
       " (1300, 'Sri Lanka'),\n",
       " (1290, 'Israel'),\n",
       " (1146, 'Greece'),\n",
       " (1129, 'Belarus'),\n",
       " (982, 'Finland'),\n",
       " (933, 'Dominican Republic'),\n",
       " (892, 'Serbia'),\n",
       " (877, 'Morocco'),\n",
       " (845, 'Kazakhstan'),\n",
       " (793, 'Costa Rica'),\n",
       " (734, 'Jordan'),\n",
       " (714, 'Slovakia'),\n",
       " (684, 'Kuwait'),\n",
       " (664, 'Kenya'),\n",
       " (648, 'Holy See (Vatican City State)'),\n",
       " (597, 'Puerto Rico'),\n",
       " (575, 'Uruguay'),\n",
       " (561, 'Paraguay'),\n",
       " (560, 'Nigeria'),\n",
       " (527, 'Nepal'),\n",
       " (518, 'Qatar'),\n",
       " (518, 'Bolivia'),\n",
       " (506, 'Panama'),\n",
       " (489, 'Algeria'),\n",
       " (476, 'Tunisia'),\n",
       " (474, 'Libyan Arab Jamahiriya'),\n",
       " (439, 'Guatemala'),\n",
       " (408, 'Syrian Arab Republic'),\n",
       " (397, 'Azerbaijan'),\n",
       " (394, 'Croatia'),\n",
       " (389, 'Ghana'),\n",
       " (387, 'Sudan'),\n",
       " (379, 'Oman'),\n",
       " (366, 'El Salvador'),\n",
       " (344, 'Yemen'),\n",
       " (299, 'Lebanon'),\n",
       " (293, 'Cambodia'),\n",
       " (287, 'Tanzania, United Republic of'),\n",
       " (283, 'Bahrain'),\n",
       " (263, 'Lithuania'),\n",
       " (247, 'Honduras'),\n",
       " (237, 'Latvia'),\n",
       " (234, 'Moldova, Republic of'),\n",
       " (234, 'Angola'),\n",
       " (231, 'Cyprus'),\n",
       " (224, 'Estonia'),\n",
       " (221, 'Uzbekistan'),\n",
       " (218, 'Georgia'),\n",
       " (196, 'Nicaragua'),\n",
       " (192, 'Armenia'),\n",
       " (189, 'Slovenia'),\n",
       " (188, 'Uganda'),\n",
       " (183, 'Myanmar'),\n",
       " (181, 'Jamaica'),\n",
       " (177, 'Trinidad and Tobago'),\n",
       " (176, 'Bosnia and Herzegovina'),\n",
       " (150, \"Cote d'Ivoire\"),\n",
       " (149, 'Iceland'),\n",
       " (148, 'Macedonia'),\n",
       " (146, 'Maldives'),\n",
       " (138, 'Luxembourg'),\n",
       " (131, 'Kyrgyzstan'),\n",
       " (130, 'Malta'),\n",
       " (129, 'Senegal'),\n",
       " (128, 'Albania'),\n",
       " (126, 'Palestinian Territory'),\n",
       " (123, 'Afghanistan'),\n",
       " (113, ''),\n",
       " (98, 'Namibia'),\n",
       " (95, 'Mozambique'),\n",
       " (83, 'Montenegro'),\n",
       " (82, 'Mauritius'),\n",
       " (81, 'Zimbabwe'),\n",
       " (79, 'Ethiopia'),\n",
       " (76, 'Micronesia, Federated States of'),\n",
       " (74, 'Bahamas'),\n",
       " (73, 'Macao'),\n",
       " (69, \"Lao People's Democratic Republic\"),\n",
       " (68, 'Reunion'),\n",
       " (68, 'French Polynesia'),\n",
       " (67, 'Mongolia'),\n",
       " (63, 'Jersey'),\n",
       " (63, 'Haiti'),\n",
       " (62, 'Congo, The Democratic Republic of the'),\n",
       " (61, 'Cameroon'),\n",
       " (59, 'Brunei Darussalam'),\n",
       " (58, 'Zambia'),\n",
       " (57, 'Papua New Guinea'),\n",
       " (55, 'Somalia'),\n",
       " (53, 'Solomon Islands'),\n",
       " (53, 'Mali'),\n",
       " (51, 'Tajikistan'),\n",
       " (50, 'Botswana'),\n",
       " (49, 'Barbados'),\n",
       " (47, 'Madagascar'),\n",
       " (46, 'Fiji'),\n",
       " (45, 'Cuba'),\n",
       " (44, 'Monaco'),\n",
       " (43, 'Martinique'),\n",
       " (40, 'Niger'),\n",
       " (39, 'New Caledonia'),\n",
       " (37, 'Guam'),\n",
       " (37, 'Guadeloupe'),\n",
       " (36, 'Benin'),\n",
       " (35, 'Guinea'),\n",
       " (32, 'Andorra'),\n",
       " (31, 'Rwanda'),\n",
       " (29, 'Belize'),\n",
       " (28, 'Gabon'),\n",
       " (28, 'Curacao'),\n",
       " (26, 'Liberia'),\n",
       " (26, 'French Guiana'),\n",
       " (26, 'Congo'),\n",
       " (25, 'Svalbard and Jan Mayen'),\n",
       " (25, 'Suriname'),\n",
       " (24, 'Turkmenistan'),\n",
       " (24, 'South Sudan'),\n",
       " (24, 'Burkina Faso'),\n",
       " (24, 'Bermuda'),\n",
       " (23, 'Malawi'),\n",
       " (23, 'Djibouti'),\n",
       " (22, 'Virgin Islands, U.S.'),\n",
       " (21, 'Grenada'),\n",
       " (20, 'Saint Lucia'),\n",
       " (20, \"Korea, Democratic People's Republic of\"),\n",
       " (20, 'Guyana'),\n",
       " (20, 'Aruba'),\n",
       " (19, 'Mauritania'),\n",
       " (18, 'Cape Verde'),\n",
       " (17, 'Cayman Islands'),\n",
       " (16, 'Swaziland'),\n",
       " (16, 'Isle of Man'),\n",
       " (16, 'Gibraltar'),\n",
       " (16, 'Bhutan'),\n",
       " (15, 'Togo'),\n",
       " (14, 'Greenland'),\n",
       " (13, 'San Marino'),\n",
       " (13, 'Antigua and Barbuda'),\n",
       " (11, 'Seychelles'),\n",
       " (11, 'Saint Kitts and Nevis'),\n",
       " (11, 'Liechtenstein'),\n",
       " (11, 'Falkland Islands (Malvinas)'),\n",
       " (10, 'Timor-Leste'),\n",
       " (10, 'Saint Martin'),\n",
       " (10, 'Marshall Islands'),\n",
       " (10, 'Guernsey'),\n",
       " (10, 'Faroe Islands'),\n",
       " (10, 'Burundi'),\n",
       " (10, 'Aland Islands'),\n",
       " (9, 'Vanuatu'),\n",
       " (9, 'Saint Vincent and the Grenadines'),\n",
       " (9, 'Dominica'),\n",
       " (8, 'South Georgia and the South Sandwich Islands'),\n",
       " (8, 'Equatorial Guinea'),\n",
       " (8, 'Bonaire, Saint Eustatius and Saba'),\n",
       " (7, 'Tonga'),\n",
       " (7, 'Mayotte'),\n",
       " (7, 'Gambia'),\n",
       " (7, 'Central African Republic'),\n",
       " (7, 'American Samoa'),\n",
       " (6, 'Western Sahara'),\n",
       " (6, 'Virgin Islands, British'),\n",
       " (6, 'Turks and Caicos Islands'),\n",
       " (6, 'Sierra Leone'),\n",
       " (6, 'Palau'),\n",
       " (6, 'Northern Mariana Islands'),\n",
       " (5, 'Sint Maarten'),\n",
       " (5, 'Saint Helena'),\n",
       " (5, 'Chad'),\n",
       " (4, 'Sao Tome and Principe'),\n",
       " (4, 'Kiribati'),\n",
       " (4, 'Eritrea'),\n",
       " (4, 'Cook Islands'),\n",
       " (4, 'Anguilla'),\n",
       " (3, 'Tuvalu'),\n",
       " (3, 'Pitcairn'),\n",
       " (3, 'Niue'),\n",
       " (3, 'Montserrat'),\n",
       " (3, 'Lesotho'),\n",
       " (3, 'French Southern Territories'),\n",
       " (3, 'Comoros'),\n",
       " (3, 'Antarctica'),\n",
       " (2, 'Tokelau'),\n",
       " (1, 'Samoa'),\n",
       " (1, 'Saint Bartelemey'),\n",
       " (1, 'Nauru'),\n",
       " (1, 'Guinea-Bissau'),\n",
       " (1, 'Cocos (Keeling) Islands'),\n",
       " (1, 'Christmas Island')]"
      ]
     },
     "execution_count": 20,
     "metadata": {},
     "output_type": "execute_result"
    }
   ],
   "source": [
    "countries_count"
   ]
  },
  {
   "cell_type": "code",
   "execution_count": 21,
   "id": "bb5dbf18",
   "metadata": {},
   "outputs": [
    {
     "data": {
      "text/plain": [
       "[(340400, 'United States'),\n",
       " (52230, 'India'),\n",
       " (30856, 'United Kingdom'),\n",
       " (24440, 'Canada'),\n",
       " (22614, 'Brazil'),\n",
       " (19116, 'Germany'),\n",
       " (17503, 'Spain'),\n",
       " (14919, 'Italy'),\n",
       " (14276, 'France'),\n",
       " (11512, 'Australia')]"
      ]
     },
     "execution_count": 21,
     "metadata": {},
     "output_type": "execute_result"
    }
   ],
   "source": [
    "top10_countries = countries_count[:10]\n",
    "top10_countries"
   ]
  },
  {
   "cell_type": "code",
   "execution_count": 22,
   "id": "1ec06eb2",
   "metadata": {},
   "outputs": [
    {
     "name": "stdout",
     "output_type": "stream",
     "text": [
      "737639\n"
     ]
    }
   ],
   "source": [
    "total_valid_users = 0\n",
    "for country in countries_dict:\n",
    "    total_valid_users = total_valid_users + countries_dict[country]\n",
    "print(total_valid_users)"
   ]
  },
  {
   "cell_type": "code",
   "execution_count": 23,
   "id": "2741969e",
   "metadata": {},
   "outputs": [],
   "source": [
    "counts = [count[0] for count in top10_countries]"
   ]
  },
  {
   "cell_type": "code",
   "execution_count": 24,
   "id": "06a27878",
   "metadata": {},
   "outputs": [],
   "source": [
    "countries = [count[1] for count in top10_countries]"
   ]
  },
  {
   "cell_type": "code",
   "execution_count": 25,
   "id": "af6edc49",
   "metadata": {},
   "outputs": [
    {
     "data": {
      "image/png": "[encoded data removed]",
      "text/plain": [
       "<Figure size 432x288 with 1 Axes>"
      ]
     },
     "metadata": {
      "needs_background": "light"
     },
     "output_type": "display_data"
    }
   ],
   "source": [
    "bar = plt.bar(countries , counts, width = 0.5)\n",
    "plt.xticks(rotation = 75)\n",
    "for i,count in enumerate(counts):\n",
    "    plt.text(i,count+2, str(round(count/1000, 1)) + \"k\")\n",
    "plt.show()"
   ]
  },
  {
   "cell_type": "code",
   "execution_count": 26,
   "id": "b7d0bb55",
   "metadata": {},
   "outputs": [
    {
     "data": {
      "text/plain": [
       "{'name': 'Diamond Valley Lake Marina',\n",
       " 'price': None,\n",
       " 'address': ['2615 Angler Ave', 'Hemet, CA 92545'],\n",
       " 'hours': [['Monday', [['6:30 am--4:15 pm']]],\n",
       "  ['Tuesday', [['6:30 am--4:15 pm']]],\n",
       "  ['Wednesday', [['6:30 am--4:15 pm']], 1],\n",
       "  ['Thursday', [['6:30 am--4:15 pm']]],\n",
       "  ['Friday', [['6:30 am--4:15 pm']]],\n",
       "  ['Saturday', [['6:30 am--4:15 pm']]],\n",
       "  ['Sunday', [['6:30 am--4:15 pm']]]],\n",
       " 'phone': '(951) 926-7201',\n",
       " 'closed': False,\n",
       " 'gPlusPlaceId': '104699454385822125632',\n",
       " 'gps': [33.703804, -117.003209]}"
      ]
     },
     "execution_count": 26,
     "metadata": {},
     "output_type": "execute_result"
    }
   ],
   "source": [
    "places_data[0]"
   ]
  },
  {
   "cell_type": "code",
   "execution_count": 27,
   "id": "b7a95885",
   "metadata": {},
   "outputs": [
    {
     "data": {
      "text/plain": [
       "3114353"
      ]
     },
     "execution_count": 27,
     "metadata": {},
     "output_type": "execute_result"
    }
   ],
   "source": [
    "len(places_data)"
   ]
  },
  {
   "cell_type": "markdown",
   "id": "ba1c1877",
   "metadata": {},
   "source": [
    "Removing entries from the places data where the key \"closed\" is True and also entires with invalid gps entries. Invalid entry is where the gps co-ordinate is not provided."
   ]
  },
  {
   "cell_type": "code",
   "execution_count": 28,
   "id": "cceaa582",
   "metadata": {},
   "outputs": [
    {
     "name": "stderr",
     "output_type": "stream",
     "text": [
      "100%|█████████████████████████████| 3114353/3114353 [00:19<00:00, 161803.27it/s]\n"
     ]
    }
   ],
   "source": [
    "valid_places_data = {}\n",
    "for i in tqdm(range(len(places_data))):\n",
    "    if places_data[i]['gps'] is not None and places_data[i]['closed'] == False:\n",
    "        if places_data[i]['name'] not in valid_places_data:\n",
    "            valid_places_data[places_data[i]['name']] = [places_data[i]['gps'], places_data[i]['gPlusPlaceId']]\n",
    "#         gps_coords = places_data[i]['gps']\n",
    "#         valid_places_data.append(gps_coords)"
   ]
  },
  {
   "cell_type": "code",
   "execution_count": 29,
   "id": "8596d840",
   "metadata": {},
   "outputs": [
    {
     "data": {
      "text/plain": [
       "2348791"
      ]
     },
     "execution_count": 29,
     "metadata": {},
     "output_type": "execute_result"
    }
   ],
   "source": [
    "len(valid_places_data)"
   ]
  },
  {
   "cell_type": "code",
   "execution_count": 30,
   "id": "10755275",
   "metadata": {},
   "outputs": [],
   "source": [
    "import geopy.distance\n",
    "from math import sin, cos, sqrt, atan2, radians\n",
    "import numpy as np"
   ]
  },
  {
   "cell_type": "code",
   "execution_count": 31,
   "id": "bfee74d0",
   "metadata": {},
   "outputs": [],
   "source": [
    "def compute_dist(gps_user, gps_place):\n",
    "\n",
    "    # approximate radius of earth in km\n",
    "    R = 6373.0\n",
    "\n",
    "    lat1 = np.radians(gps_user[0])\n",
    "    lon1 = np.radians(gps_user[1])\n",
    "    lat2 = np.radians(gps_place[0])\n",
    "    lon2 = np.radians(gps_place[1])\n",
    "\n",
    "    dlon = lon2 - lon1\n",
    "    dlat = lat2 - lat1\n",
    "\n",
    "    a = np.sin(dlat / 2)**2 + np.cos(lat1) * np.cos(lat2) * np.sin(dlon / 2)**2\n",
    "    c = 2 * atan2(sqrt(a), sqrt(1 - a))\n",
    "\n",
    "    distance = R * c\n",
    "    return distance"
   ]
  },
  {
   "cell_type": "code",
   "execution_count": 32,
   "id": "feffd115",
   "metadata": {},
   "outputs": [
    {
     "name": "stderr",
     "output_type": "stream",
     "text": [
      "100%|█████████████████████████████| 3747937/3747937 [00:12<00:00, 291854.92it/s]\n"
     ]
    }
   ],
   "source": [
    "valid_user_data = {}\n",
    "for i in tqdm(range(len(users_data))):\n",
    "    if users_data[i]['currentPlace'] is not None and users_data[i]['gPlusUserId'] is not None:\n",
    "        if len(users_data[i]['currentPlace'])>1:\n",
    "            latitude_user = users_data[i]['currentPlace'][1][1]/10**7\n",
    "            longitude_user = users_data[i]['currentPlace'][1][2]/10**7\n",
    "            gps_user = [latitude_user, longitude_user]\n",
    "            if users_data[i]['gPlusUserId'] not in valid_user_data:\n",
    "                valid_user_data[users_data[i]['gPlusUserId']] = gps_user"
   ]
  },
  {
   "cell_type": "code",
   "execution_count": 33,
   "id": "29298a59",
   "metadata": {},
   "outputs": [
    {
     "data": {
      "text/plain": [
       "737639"
      ]
     },
     "execution_count": 33,
     "metadata": {},
     "output_type": "execute_result"
    }
   ],
   "source": [
    "len(valid_user_data)"
   ]
  },
  {
   "cell_type": "code",
   "execution_count": 34,
   "id": "52177b6e",
   "metadata": {},
   "outputs": [],
   "source": [
    "# user_business_data = {}\n",
    "# for user_id in tqdm(valid_user_data):\n",
    "#     gps_user = valid_user_data[user_id]\n",
    "#     for place in valid_places_data:\n",
    "#         gps_place = valid_places_data[place][0]\n",
    "# #         dist = geopy.distance.geodesic(gps_user, gps_place).km\n",
    "#         dist = compute_dist(gps_user, gps_place)\n",
    "#         if dist <= 50:\n",
    "#             if user_id not in user_business_data:\n",
    "#                 user_business_data[user_id] = [dist,valid_places_data[place][1]]\n",
    "#             else:\n",
    "#                 user_business_data[user_id].append([dist,valid_places_data[place][1]])"
   ]
  },
  {
   "cell_type": "code",
   "execution_count": 35,
   "id": "2adf8888",
   "metadata": {},
   "outputs": [
    {
     "name": "stderr",
     "output_type": "stream",
     "text": [
      "100%|█████████████████████████████| 3747937/3747937 [00:25<00:00, 147811.99it/s]\n"
     ]
    }
   ],
   "source": [
    "user_demographics = []\n",
    "business_demographics = []\n",
    "for i in tqdm(range(len(users_data))):\n",
    "    if users_data[i]['currentPlace'] is not None and users_data[i]['gPlusUserId'] is not None:\n",
    "        if len(users_data[i]['currentPlace'])>1:\n",
    "            latitude = users_data[i]['currentPlace'][1][1]/10**7\n",
    "            longitude = users_data[i]['currentPlace'][1][2]/10**7\n",
    "            coord = (latitude , longitude)\n",
    "            pos = rg.search([coord])\n",
    "            country = pos[0]['country']\n",
    "            user_demographics.append([users_data[i]['gPlusUserId'], country])"
   ]
  },
  {
   "cell_type": "code",
   "execution_count": 36,
   "id": "a822f6b7",
   "metadata": {},
   "outputs": [
    {
     "name": "stderr",
     "output_type": "stream",
     "text": [
      "100%|██████████████████████████████| 3114353/3114353 [01:59<00:00, 26052.89it/s]\n"
     ]
    }
   ],
   "source": [
    "for i in tqdm(range(len(places_data))):\n",
    "    if places_data[i]['gps'] is not None and places_data[i]['closed'] == False and places_data[i]['gPlusPlaceId'] is not None:\n",
    "        latitude = places_data[i]['gps'][0]\n",
    "        longitude = places_data[i]['gps'][1]\n",
    "        coord = (latitude , longitude)\n",
    "        pos = rg.search([coord])\n",
    "        country = pos[0]['country']\n",
    "        business_demographics.append([places_data[i]['gPlusPlaceId'], country])"
   ]
  },
  {
   "cell_type": "code",
   "execution_count": 48,
   "id": "243d1a26",
   "metadata": {},
   "outputs": [
    {
     "name": "stdout",
     "output_type": "stream",
     "text": [
      "(3, 2)\n",
      "[[1.14693923e-05 2.25609561e-02]]\n",
      "[[7.30715986e+01 1.43736050e+05]]\n",
      "[[[  32.86702567 -117.25040134]\n",
      "  [  31.59       -117.01      ]]]\n"
     ]
    }
   ],
   "source": [
    "R = 6371008.7714\n",
    "a = np.array([[32.86702567346866, -117.250401337591], [35.7,-123.56], [31.59,-117.01]])\n",
    "X = np.radians(a.reshape(3,2))\n",
    "print(X.shape)\n",
    "b = np.array([32.8666369415, -117.2497705260])\n",
    "tree = BallTree(X, leaf_size=2, metric='haversine')              \n",
    "dist, ind = tree.query(np.radians(b.reshape(1, -1)), k=2)\n",
    "print(dist)\n",
    "x = (dist*R) \n",
    "print(x)\n",
    "print(a[ind])"
   ]
  },
  {
   "cell_type": "code",
   "execution_count": 62,
   "id": "62539712",
   "metadata": {},
   "outputs": [],
   "source": [
    "def compute_geodesic_distance(user_gps, places_gps, neighbours):\n",
    "    R = 6371008.7714\n",
    "    a = np.array(places_gps)\n",
    "    X = np.radians(a.reshape(len(a),2))\n",
    "    b = np.array(user_gps)\n",
    "    tree = BallTree(X, leaf_size=2, metric='haversine')              \n",
    "    dist, ind = tree.query(np.radians(b.reshape(1, -1)), k= neighbours)                \n",
    "    x = (dist*R) \n",
    "    return x, ind"
   ]
  },
  {
   "cell_type": "code",
   "execution_count": 63,
   "id": "eb706222",
   "metadata": {},
   "outputs": [
    {
     "data": {
      "text/plain": [
       "737639"
      ]
     },
     "execution_count": 63,
     "metadata": {},
     "output_type": "execute_result"
    }
   ],
   "source": [
    "len(valid_user_data)"
   ]
  },
  {
   "cell_type": "code",
   "execution_count": 64,
   "id": "8ec16620",
   "metadata": {},
   "outputs": [],
   "source": [
    "# valid_user_data"
   ]
  },
  {
   "cell_type": "code",
   "execution_count": 65,
   "id": "6ba2eb89",
   "metadata": {},
   "outputs": [
    {
     "data": {
      "text/plain": [
       "2348791"
      ]
     },
     "execution_count": 65,
     "metadata": {},
     "output_type": "execute_result"
    }
   ],
   "source": [
    "len(valid_places_data)"
   ]
  },
  {
   "cell_type": "code",
   "execution_count": 66,
   "id": "bf3592af",
   "metadata": {},
   "outputs": [],
   "source": [
    "# valid_places_data"
   ]
  },
  {
   "cell_type": "code",
   "execution_count": 57,
   "id": "cf6a6a1f",
   "metadata": {},
   "outputs": [
    {
     "name": "stderr",
     "output_type": "stream",
     "text": [
      "100%|█████████████████████████████| 2348791/2348791 [00:08<00:00, 261185.84it/s]\n"
     ]
    }
   ],
   "source": [
    "places_gps = []\n",
    "placesID = []\n",
    "for place in tqdm(valid_places_data):\n",
    "    places_gps.append(valid_places_data[place][0])\n",
    "    placesID.append(valid_places_data[place][1])"
   ]
  },
  {
   "cell_type": "code",
   "execution_count": 67,
   "id": "79c45bbb",
   "metadata": {},
   "outputs": [
    {
     "data": {
      "text/plain": [
       "[[33.703804, -117.003209],\n",
       " [38.979759, -76.547538],\n",
       " [43.22776, 44.762726],\n",
       " [43.529494, -96.792244],\n",
       " [-2.976256, 104.742662]]"
      ]
     },
     "execution_count": 67,
     "metadata": {},
     "output_type": "execute_result"
    }
   ],
   "source": [
    "places_gps[:5]"
   ]
  },
  {
   "cell_type": "code",
   "execution_count": 68,
   "id": "013ebec9",
   "metadata": {},
   "outputs": [
    {
     "data": {
      "text/plain": [
       "['104699454385822125632',\n",
       " '103054478949000078829',\n",
       " '109810290098030327104',\n",
       " '100327153115986850675',\n",
       " '103368487323937936043']"
      ]
     },
     "execution_count": 68,
     "metadata": {},
     "output_type": "execute_result"
    }
   ],
   "source": [
    "placesID[:5]"
   ]
  },
  {
   "cell_type": "code",
   "execution_count": null,
   "id": "1ad2ecc8",
   "metadata": {},
   "outputs": [],
   "source": [
    "user_business_dist = {}\n",
    "for userID in tqdm(valid_user_data):\n",
    "    gps_user = valid_user_data[userID]\n",
    "    gps_places = places_gps\n",
    "    top10_dist, top10_ind = compute_geodesic_distance(gps_user, gps_places, 10)\n",
    "    top10_placeID = np.array(placesID)[top10_ind[0]]\n",
    "    user_business_dist[userID] = top10_placeID"
   ]
  },
  {
   "cell_type": "code",
   "execution_count": 79,
   "id": "6c9a0a67",
   "metadata": {},
   "outputs": [
    {
     "data": {
      "text/plain": [
       "[0, 1, 2, 3, 4, 5, 6, 7, 8, 9]"
      ]
     },
     "execution_count": 79,
     "metadata": {},
     "output_type": "execute_result"
    }
   ],
   "source": [
    "x = [i for i in range(10)]\n",
    "x"
   ]
  },
  {
   "cell_type": "code",
   "execution_count": 86,
   "id": "e3310fe3",
   "metadata": {},
   "outputs": [],
   "source": [
    "y = np.array([str(i) for i in range(100)])"
   ]
  },
  {
   "cell_type": "code",
   "execution_count": 87,
   "id": "f8830d2c",
   "metadata": {},
   "outputs": [
    {
     "data": {
      "text/plain": [
       "array(['0', '1', '2', '3', '4', '5', '6', '7', '8', '9'], dtype='<U2')"
      ]
     },
     "execution_count": 87,
     "metadata": {},
     "output_type": "execute_result"
    }
   ],
   "source": [
    "y[x]"
   ]
  },
  {
   "cell_type": "code",
   "execution_count": null,
   "id": "05f7ea40",
   "metadata": {},
   "outputs": [],
   "source": []
  }
 ],
 "metadata": {
  "kernelspec": {
   "display_name": "Python 3 (ipykernel)",
   "language": "python",
   "name": "python3"
  },
  "language_info": {
   "codemirror_mode": {
    "name": "ipython",
    "version": 3
   },
   "file_extension": ".py",
   "mimetype": "text/x-python",
   "name": "python",
   "nbconvert_exporter": "python",
   "pygments_lexer": "ipython3",
   "version": "3.9.12"
  }
 },
 "nbformat": 4,
 "nbformat_minor": 5
}
