{
 "cells": [
  {
   "cell_type": "code",
   "execution_count": 1,
   "id": "6fbc7bae",
   "metadata": {},
   "outputs": [],
   "source": [
    "import numpy as np\n",
    "import matplotlib.pyplot as plt\n",
    "import random\n",
    "import os\n",
    "import gzip\n",
    "from collections import defaultdict\n",
    "import math\n",
    "import scipy.optimize\n",
    "from sklearn import svm\n",
    "import string\n",
    "from sklearn import linear_model\n",
    "import pickle\n",
    "from tqdm import tqdm"
   ]
  },
  {
   "cell_type": "code",
   "execution_count": 2,
   "id": "85b9d092",
   "metadata": {},
   "outputs": [],
   "source": [
    "with open(\"us_reviews_data.pkl\",'rb') as f:\n",
    "    us_reviews = pickle.load(f)"
   ]
  },
  {
   "cell_type": "code",
   "execution_count": 3,
   "id": "cf4c05b5",
   "metadata": {},
   "outputs": [
    {
     "data": {
      "text/plain": [
       "4896184"
      ]
     },
     "execution_count": 3,
     "metadata": {},
     "output_type": "execute_result"
    }
   ],
   "source": [
    "len(us_reviews)"
   ]
  },
  {
   "cell_type": "code",
   "execution_count": 6,
   "id": "0d54f098",
   "metadata": {},
   "outputs": [],
   "source": [
    "with open(\"us_reviews_restuarants_train.pkl\",'rb') as f:\n",
    "    us_restaurant_train = pickle.load(f)"
   ]
  },
  {
   "cell_type": "code",
   "execution_count": 8,
   "id": "98b79da8",
   "metadata": {},
   "outputs": [],
   "source": [
    "with open(\"us_reviews_restuarants_test.pkl\",'rb') as f:\n",
    "    us_restaurant_test = pickle.load(f)"
   ]
  },
  {
   "cell_type": "code",
   "execution_count": 9,
   "id": "cf2aef7e",
   "metadata": {},
   "outputs": [
    {
     "data": {
      "text/plain": [
       "454830"
      ]
     },
     "execution_count": 9,
     "metadata": {},
     "output_type": "execute_result"
    }
   ],
   "source": [
    "len(us_restaurant_train)"
   ]
  },
  {
   "cell_type": "code",
   "execution_count": 10,
   "id": "e488c5b8",
   "metadata": {},
   "outputs": [
    {
     "data": {
      "text/plain": [
       "125468"
      ]
     },
     "execution_count": 10,
     "metadata": {},
     "output_type": "execute_result"
    }
   ],
   "source": [
    "len(us_restaurant_test)"
   ]
  },
  {
   "cell_type": "code",
   "execution_count": 11,
   "id": "1c3f4294",
   "metadata": {},
   "outputs": [
    {
     "data": {
      "text/plain": [
       "{'rating': 5.0,\n",
       " 'reviewerName': 'Chris Johnson',\n",
       " 'reviewText': None,\n",
       " 'categories': ['American Restaurant', 'Bar'],\n",
       " 'gPlusPlaceId': '103654778391814923896',\n",
       " 'unixReviewTime': 1311509683,\n",
       " 'reviewTime': 'Jul 24, 2011',\n",
       " 'gPlusUserId': '100000524810171549476'}"
      ]
     },
     "execution_count": 11,
     "metadata": {},
     "output_type": "execute_result"
    }
   ],
   "source": [
    "us_restaurant_train[0]"
   ]
  },
  {
   "cell_type": "code",
   "execution_count": 12,
   "id": "317944c6",
   "metadata": {},
   "outputs": [
    {
     "data": {
      "text/plain": [
       "{'rating': 5.0,\n",
       " 'reviewerName': 'Chris Johnson',\n",
       " 'reviewText': \"They have worked miracles for me trying to cater to that big-azz agency upstairs on a moment's notice.  Love love love them.\",\n",
       " 'categories': ['New American Restaurant', 'Mediterranean Restaurant'],\n",
       " 'gPlusPlaceId': '118154383123752939812',\n",
       " 'unixReviewTime': 1294448618,\n",
       " 'reviewTime': 'Jan 7, 2011',\n",
       " 'gPlusUserId': '100000524810171549476'}"
      ]
     },
     "execution_count": 12,
     "metadata": {},
     "output_type": "execute_result"
    }
   ],
   "source": [
    "us_restaurant_test[0]"
   ]
  },
  {
   "cell_type": "code",
   "execution_count": 13,
   "id": "ade4a743",
   "metadata": {},
   "outputs": [],
   "source": [
    "random.shuffle(us_restaurant_train)"
   ]
  },
  {
   "cell_type": "code",
   "execution_count": 15,
   "id": "3e989007",
   "metadata": {},
   "outputs": [],
   "source": [
    "random.shuffle(us_restaurant_test)"
   ]
  },
  {
   "cell_type": "code",
   "execution_count": 18,
   "id": "155b8b15",
   "metadata": {},
   "outputs": [
    {
     "data": {
      "text/plain": [
       "62734"
      ]
     },
     "execution_count": 18,
     "metadata": {},
     "output_type": "execute_result"
    }
   ],
   "source": [
    "x = len(us_restaurant_test)//2\n",
    "x"
   ]
  },
  {
   "cell_type": "code",
   "execution_count": 19,
   "id": "46051366",
   "metadata": {},
   "outputs": [],
   "source": [
    "us_restaurant_valid_data = us_restaurant_test[:x]\n",
    "us_restaurant_test_data = us_restaurant_test[x:]"
   ]
  },
  {
   "cell_type": "code",
   "execution_count": 5,
   "id": "7c4ea6db",
   "metadata": {},
   "outputs": [],
   "source": [
    "# data_size = len(us_reviews)\n",
    "# train_data = us_reviews[:int(data_size*0.8)]\n",
    "# valid_data = us_reviews[int(data_size*0.8):int(data_size*0.9)]\n",
    "# test_data = us_reviews[int(data_size*0.9):]"
   ]
  },
  {
   "cell_type": "code",
   "execution_count": 20,
   "id": "d9d1e407",
   "metadata": {},
   "outputs": [
    {
     "name": "stdout",
     "output_type": "stream",
     "text": [
      "454830\n",
      "62734\n",
      "62734\n"
     ]
    }
   ],
   "source": [
    "print(len(us_restaurant_train))\n",
    "print(len(us_restaurant_valid_data))\n",
    "print(len(us_restaurant_test_data))"
   ]
  },
  {
   "cell_type": "code",
   "execution_count": 21,
   "id": "02d3e7dc",
   "metadata": {},
   "outputs": [
    {
     "name": "stderr",
     "output_type": "stream",
     "text": [
      "100%|███████████████████████████████| 454830/454830 [00:00<00:00, 641275.74it/s]\n"
     ]
    },
    {
     "data": {
      "text/plain": [
       "3.939010179627553"
      ]
     },
     "execution_count": 21,
     "metadata": {},
     "output_type": "execute_result"
    }
   ],
   "source": [
    "train_ratings = []\n",
    "for review in tqdm(us_restaurant_train):\n",
    "    train_ratings.append(review['rating'])\n",
    "mu = sum(train_ratings)/len(train_ratings)\n",
    "mu"
   ]
  },
  {
   "cell_type": "code",
   "execution_count": 29,
   "id": "dccc9bd3",
   "metadata": {},
   "outputs": [
    {
     "name": "stderr",
     "output_type": "stream",
     "text": [
      "100%|███████████████████████████████| 454830/454830 [00:01<00:00, 285127.35it/s]\n"
     ]
    }
   ],
   "source": [
    "userIDs = {}\n",
    "placeIDs = {}\n",
    "interactions_train = []\n",
    "\n",
    "for review in tqdm(us_restaurant_train):\n",
    "    u = review['gPlusUserId']\n",
    "    p = review['gPlusPlaceId']\n",
    "    r = review['rating']\n",
    "    if not u in userIDs: \n",
    "        userIDs[u] = len(userIDs)\n",
    "    if not p in placeIDs: \n",
    "        placeIDs[p] = len(placeIDs)\n",
    "    interactions_train.append((u,p,r))"
   ]
  },
  {
   "cell_type": "code",
   "execution_count": 31,
   "id": "18ea3304",
   "metadata": {},
   "outputs": [
    {
     "data": {
      "text/plain": [
       "[('102402605559816764426', '114524455263681124737', 4.0),\n",
       " ('117078683766767369032', '101421411984715145689', 4.0),\n",
       " ('111079365364134389793', '105982662324380119076', 5.0),\n",
       " ('117595887129268694192', '112246755620018649114', 1.0),\n",
       " ('104426882443773508676', '104288077033725316535', 2.0)]"
      ]
     },
     "execution_count": 31,
     "metadata": {},
     "output_type": "execute_result"
    }
   ],
   "source": [
    "interactions_train[:5]"
   ]
  },
  {
   "cell_type": "code",
   "execution_count": 32,
   "id": "8a3d3431",
   "metadata": {},
   "outputs": [
    {
     "name": "stderr",
     "output_type": "stream",
     "text": [
      "100%|█████████████████████████████████| 62734/62734 [00:00<00:00, 153505.50it/s]\n"
     ]
    }
   ],
   "source": [
    "userIDs_valid = {}\n",
    "placeIDs_valid = {}\n",
    "interactions_valid = []\n",
    "\n",
    "for review in tqdm(us_restaurant_valid_data):\n",
    "    u = review['gPlusUserId']\n",
    "    p = review['gPlusPlaceId']\n",
    "    r = review['rating']\n",
    "    if not u in userIDs_valid: \n",
    "        userIDs_valid[u] = len(userIDs_valid)\n",
    "    if not p in placeIDs_valid: \n",
    "        placeIDs_valid[p] = len(placeIDs_valid)\n",
    "    interactions_valid.append((u,p,r))"
   ]
  },
  {
   "cell_type": "code",
   "execution_count": 33,
   "id": "d6bb6ed5",
   "metadata": {},
   "outputs": [
    {
     "name": "stderr",
     "output_type": "stream",
     "text": [
      "100%|█████████████████████████████████| 62734/62734 [00:00<00:00, 288162.15it/s]\n"
     ]
    }
   ],
   "source": [
    "userIDs_test = {}\n",
    "placeIDs_test = {}\n",
    "interactions_test = []\n",
    "\n",
    "for review in tqdm(us_restaurant_test_data):\n",
    "    u = review['gPlusUserId']\n",
    "    p = review['gPlusPlaceId']\n",
    "    r = review['rating']\n",
    "    if not u in userIDs_test: \n",
    "        userIDs_test[u] = len(userIDs_test)\n",
    "    if not p in placeIDs_test: \n",
    "        placeIDs_test[p] = len(placeIDs_test)\n",
    "    interactions_test.append((u,p,r))"
   ]
  },
  {
   "cell_type": "code",
   "execution_count": null,
   "id": "d4f1b699",
   "metadata": {},
   "outputs": [],
   "source": [
    "##### Latent Factor Model #####\n",
    "# placesPerUser = defaultdict(list)\n",
    "# usersPerPlace = defaultdict(list)\n",
    "# for u,p,r in interactions_train:\n",
    "#     placesPerUser[u].append(p)\n",
    "#     usersPerPlace[p].append(u)\n",
    "optimizer = tf.keras.optimizers.Adam(0.1)"
   ]
  },
  {
   "cell_type": "code",
   "execution_count": null,
   "id": "dae638b1",
   "metadata": {},
   "outputs": [],
   "source": [
    "class LatentFactorModel(tf.keras.Model):\n",
    "    def __init__(self, mu, K, lamb):\n",
    "        super(LatentFactorModel, self).__init__()\n",
    "        # Initialize to average\n",
    "        self.alpha = tf.Variable(mu)\n",
    "        # Initialize to small random values\n",
    "        self.betaU = tf.Variable(tf.random.normal([len(userIDs)],stddev=0.001))\n",
    "        self.betaP = tf.Variable(tf.random.normal([len(placeIDs)],stddev=0.001))\n",
    "        self.gammaU = tf.Variable(tf.random.normal([len(userIDs),K],stddev=0.001))\n",
    "        self.gammaP = tf.Variable(tf.random.normal([len(placeIDs),K],stddev=0.001))\n",
    "        self.lamb = lamb\n",
    "\n",
    "    # Prediction for a single instance (useful for evaluation)\n",
    "    def predict(self, u, p):\n",
    "        pred = self.alpha + self.betaU[u] + self.betaP[p] +\\\n",
    "            tf.tensordot(self.gammaU[u], self.gammaP[p], 1)\n",
    "        return pred\n",
    "\n",
    "    # Regularizer\n",
    "    def reg(self):\n",
    "        return self.lamb * (tf.reduce_sum(self.betaU**2) +\\\n",
    "                            tf.reduce_sum(self.betaI**2) +\\\n",
    "                            tf.reduce_sum(self.gammaU**2) +\\\n",
    "                            tf.reduce_sum(self.gammaI**2))\n",
    "    \n",
    "    # Prediction for a sample of instances\n",
    "    def predictSample(self, sampleU, sampleP):\n",
    "        u = tf.convert_to_tensor(sampleU, dtype=tf.int32)\n",
    "        p = tf.convert_to_tensor(sampleP, dtype=tf.int32)\n",
    "        beta_u = tf.nn.embedding_lookup(self.betaU, u)\n",
    "        beta_p = tf.nn.embedding_lookup(self.betaP, p)\n",
    "        gamma_u = tf.nn.embedding_lookup(self.gammaU, u)\n",
    "        gamma_p = tf.nn.embedding_lookup(self.gammaP, p)\n",
    "        pred = self.alpha + beta_u + beta_p +\\\n",
    "               tf.reduce_sum(tf.multiply(gamma_u, gamma_p), 1)\n",
    "        return pred\n",
    "    \n",
    "    # Loss\n",
    "    def call(self, sampleU, sampleP, sampleR):\n",
    "        pred = self.predictSample(sampleU, sampleP)\n",
    "        r = tf.convert_to_tensor(sampleR, dtype=tf.float32)\n",
    "        return tf.nn.l2_loss(pred - r) / len(sampleR)"
   ]
  },
  {
   "cell_type": "code",
   "execution_count": null,
   "id": "7561d7f2",
   "metadata": {},
   "outputs": [],
   "source": [
    "modelLFM = LatentFactorModel(mu, 5, 0.00001)"
   ]
  },
  {
   "cell_type": "code",
   "execution_count": null,
   "id": "c57bd959",
   "metadata": {},
   "outputs": [],
   "source": [
    "def trainingStep(model, interactions):\n",
    "    Nsamples = 50000\n",
    "    with tf.GradientTape() as tape:\n",
    "        sampleU, sampleP, sampleR = [], [], []\n",
    "        for _ in range(Nsamples):\n",
    "            u,p,r = random.choice(interactions)\n",
    "            sampleU.append(userIDs[u])\n",
    "            sampleP.append(placeIDs[p])\n",
    "            sampleR.append(r)\n",
    "\n",
    "        loss = model(sampleU,sampleP,sampleR)\n",
    "        loss += model.reg()\n",
    "    gradients = tape.gradient(loss, model.trainable_variables)\n",
    "    optimizer.apply_gradients((grad, var) for\n",
    "                              (grad, var) in zip(gradients, model.trainable_variables)\n",
    "                              if grad is not None)\n",
    "    return loss.numpy()"
   ]
  },
  {
   "cell_type": "code",
   "execution_count": null,
   "id": "e6b40886",
   "metadata": {},
   "outputs": [],
   "source": [
    "epochs = 100\n",
    "for i in range(epochs):\n",
    "    obj = trainingStep(modelLFM, interactions_train)\n",
    "    if (i % 10 == 9): print(\"iteration \" + str(i+1) + \", objective = \" + str(obj))"
   ]
  },
  {
   "cell_type": "code",
   "execution_count": null,
   "id": "3d25774c",
   "metadata": {},
   "outputs": [],
   "source": [
    "valid_data_predict = []\n",
    "for u,p,r in interactions_valid:\n",
    "    valid_data_predict.append(modelLFM.predict(userIDs[u], placeIDs[p]).numpy())\n",
    "valid_predict = np.array(valid_data_predict)"
   ]
  },
  {
   "cell_type": "code",
   "execution_count": null,
   "id": "fb773674",
   "metadata": {},
   "outputs": [],
   "source": [
    "gt = []\n",
    "for r in tqdm(us_restaurant_valid_data):\n",
    "    gt.append(r['rating'])"
   ]
  },
  {
   "cell_type": "code",
   "execution_count": null,
   "id": "31808787",
   "metadata": {},
   "outputs": [],
   "source": [
    "mse = np.sum((valid_predict - gt)**2)/len(gt)"
   ]
  }
 ],
 "metadata": {
  "kernelspec": {
   "display_name": "Python 3 (ipykernel)",
   "language": "python",
   "name": "python3"
  },
  "language_info": {
   "codemirror_mode": {
    "name": "ipython",
    "version": 3
   },
   "file_extension": ".py",
   "mimetype": "text/x-python",
   "name": "python",
   "nbconvert_exporter": "python",
   "pygments_lexer": "ipython3",
   "version": "3.9.12"
  }
 },
 "nbformat": 4,
 "nbformat_minor": 5
}
