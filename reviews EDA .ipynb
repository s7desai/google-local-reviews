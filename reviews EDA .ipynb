{
 "cells": [
  {
   "cell_type": "code",
   "execution_count": 2,
   "id": "2c8e2a93",
   "metadata": {},
   "outputs": [],
   "source": [
    "import gzip\n",
    "from tqdm import tqdm, trange\n",
    "import pandas as pd\n",
    "from shapely.geometry import Point\n",
    "import geopandas as gpd\n",
    "from geopandas import GeoDataFrame\n",
    "import folium\n",
    "import pickle\n",
    "from collections import defaultdict\n",
    "from datetime import datetime\n",
    "import matplotlib.pyplot as plt"
   ]
  },
  {
   "cell_type": "code",
   "execution_count": 3,
   "id": "50e148ce",
   "metadata": {},
   "outputs": [],
   "source": [
    "places_file = \"places.clean.json.gz\"\n",
    "users_file = \"users.clean.json.gz\"\n",
    "reviews_file = \"reviews.clean.json.gz\"\n",
    "\n",
    "user_demog_file = \"user_deomograhics.pkl\"\n",
    "bus_demog_file = \"business_deomograhics.pkl\""
   ]
  },
  {
   "cell_type": "code",
   "execution_count": 4,
   "id": "3e097ec8",
   "metadata": {},
   "outputs": [],
   "source": [
    "def parse(path):\n",
    "    g = gzip.open(path, 'r')\n",
    "    for l in g:\n",
    "        yield eval(l)"
   ]
  },
  {
   "cell_type": "code",
   "execution_count": 5,
   "id": "343e91bf",
   "metadata": {},
   "outputs": [],
   "source": [
    "places_data = []\n",
    "users_data = []\n",
    "reviews_data = []"
   ]
  },
  {
   "cell_type": "code",
   "execution_count": 6,
   "id": "5d8f4d46",
   "metadata": {},
   "outputs": [
    {
     "name": "stderr",
     "output_type": "stream",
     "text": [
      "3114353it [04:13, 12291.36it/s]\n"
     ]
    }
   ],
   "source": [
    "nrec = 0\n",
    "for l in tqdm(parse(places_file)):\n",
    "    # if nrec == 5:\n",
    "    #     break\n",
    "    places_data.append(l)\n",
    "    nrec += 1"
   ]
  },
  {
   "cell_type": "code",
   "execution_count": 7,
   "id": "cd8c715e",
   "metadata": {},
   "outputs": [
    {
     "name": "stderr",
     "output_type": "stream",
     "text": [
      "3747937it [07:45, 8046.94it/s] \n"
     ]
    }
   ],
   "source": [
    "nrec = 0\n",
    "for l in tqdm(parse(users_file)):\n",
    "#     if nrec == 5:\n",
    "#         break\n",
    "    users_data.append(l)\n",
    "    nrec += 1"
   ]
  },
  {
   "cell_type": "code",
   "execution_count": 8,
   "id": "1ef6c92e",
   "metadata": {},
   "outputs": [
    {
     "name": "stderr",
     "output_type": "stream",
     "text": [
      "11453845it [14:35, 13087.20it/s]\n"
     ]
    }
   ],
   "source": [
    "for l in tqdm(parse(reviews_file)):\n",
    "    reviews_data.append(l)"
   ]
  },
  {
   "cell_type": "code",
   "execution_count": 9,
   "id": "b3033006",
   "metadata": {},
   "outputs": [],
   "source": [
    "with open(user_demog_file, 'rb') as f:\n",
    "    user_demog = pickle.load(f)\n",
    "\n",
    "with open(bus_demog_file, 'rb') as f:\n",
    "    place_demog = pickle.load(f)"
   ]
  },
  {
   "cell_type": "code",
   "execution_count": 10,
   "id": "a37df909",
   "metadata": {},
   "outputs": [],
   "source": [
    "place_country_dict = dict()\n",
    "for p, country in place_demog:\n",
    "    place_country_dict[p] = country"
   ]
  },
  {
   "cell_type": "code",
   "execution_count": 11,
   "id": "69c75fde",
   "metadata": {},
   "outputs": [],
   "source": [
    "def remove_review(review):\n",
    "    if ('categories' not in review or \n",
    "        review['categories'] == None or \n",
    "        'reviewTime' not in review or \n",
    "        review['reviewTime'] == None):\n",
    "        return True\n",
    "    date = datetime.fromtimestamp(review['unixReviewTime'])\n",
    "    month = int(date.month)\n",
    "    year = int(date.year)\n",
    "    if (year < 2004):\n",
    "        return True\n",
    "    return False"
   ]
  },
  {
   "cell_type": "code",
   "execution_count": 12,
   "id": "61ebc529",
   "metadata": {},
   "outputs": [],
   "source": [
    "def is_place_in_us(review, place_country_dict):\n",
    "    place_id = review['gPlusPlaceId']\n",
    "    if place_id not in place_country_dict:\n",
    "        return False\n",
    "    if place_country_dict[place_id] == 'United States':\n",
    "        return True\n",
    "    return False"
   ]
  },
  {
   "cell_type": "code",
   "execution_count": 13,
   "id": "11e047c2",
   "metadata": {},
   "outputs": [
    {
     "name": "stderr",
     "output_type": "stream",
     "text": [
      "100%|███████████████████████████| 11453845/11453845 [00:54<00:00, 209545.50it/s]\n"
     ]
    }
   ],
   "source": [
    "modified_reviews_data = []\n",
    "for d in tqdm(reviews_data):\n",
    "    if remove_review(d):\n",
    "        continue\n",
    "    else:\n",
    "        modified_reviews_data.append(d)"
   ]
  },
  {
   "cell_type": "code",
   "execution_count": 14,
   "id": "728fe722",
   "metadata": {},
   "outputs": [
    {
     "name": "stderr",
     "output_type": "stream",
     "text": [
      "100%|████████████████████████████| 10484628/10484628 [03:04<00:00, 56735.26it/s]\n"
     ]
    }
   ],
   "source": [
    "us_reviews_data = []\n",
    "for d in tqdm(modified_reviews_data):\n",
    "    if is_place_in_us(d, place_country_dict):\n",
    "        us_reviews_data.append(d)"
   ]
  },
  {
   "cell_type": "code",
   "execution_count": 15,
   "id": "71982230",
   "metadata": {},
   "outputs": [
    {
     "name": "stdout",
     "output_type": "stream",
     "text": [
      "10484628\n",
      "4896184\n"
     ]
    }
   ],
   "source": [
    "print(len(modified_reviews_data))\n",
    "print(len(us_reviews_data))"
   ]
  },
  {
   "cell_type": "code",
   "execution_count": 16,
   "id": "00745105",
   "metadata": {},
   "outputs": [],
   "source": [
    "def user_item_interactions(rev_data):\n",
    "    usersPerItem = defaultdict(set)\n",
    "    itemsPerUser = defaultdict(set)\n",
    "    ratingsDict = defaultdict(float)\n",
    "    for d in tqdm(rev_data):\n",
    "        u = d['gPlusUserId']\n",
    "        i = d['gPlusPlaceId']\n",
    "        ratingsDict[(u,i)] = d['rating']\n",
    "        usersPerItem[i].add(u)\n",
    "        itemsPerUser[u].add(i)\n",
    "    return usersPerItem, itemsPerUser, ratingsDict"
   ]
  },
  {
   "cell_type": "code",
   "execution_count": 17,
   "id": "b638deb1",
   "metadata": {},
   "outputs": [],
   "source": [
    "def get_categories_count(rev_data):\n",
    "    # get categories\n",
    "    categories_dict = defaultdict(list)\n",
    "    for i in tqdm(range(len(rev_data))):\n",
    "        for c in rev_data[i]['categories']:\n",
    "            categories_dict[c].append(rev_data[i])\n",
    "    categories_count_lis = []\n",
    "    for c in categories_dict:\n",
    "        categories_count_lis.append((c, len(categories_dict[c])))\n",
    "    categories_count_lis.sort(key=lambda x: x[1], reverse=True)\n",
    "    return categories_count_lis"
   ]
  },
  {
   "cell_type": "code",
   "execution_count": 18,
   "id": "68a76c8a",
   "metadata": {},
   "outputs": [],
   "source": [
    "def plot_top_categories(categories_count_lis):\n",
    "    # plot top categories\n",
    "    bar = plt.bar([c[0] for c in categories_count_lis[:20]] , [c[1] for c in categories_count_lis[:20]], width = 0.5)\n",
    "    plt.xticks(rotation = 75)\n",
    "    plt.show()"
   ]
  },
  {
   "cell_type": "code",
   "execution_count": 19,
   "id": "59de9b58",
   "metadata": {},
   "outputs": [],
   "source": [
    "def plot_map(rev_data):\n",
    "    # plotting on map\n",
    "    lat_lon = []\n",
    "    long_lat_dict = {\n",
    "                        \"Longitude\" : [],\n",
    "                        \"Latitude\" : []\n",
    "                    }\n",
    "    for p in tqdm(range(len(rev_data))):\n",
    "        long_lat_dict[\"Longitude\"].append(rev_data[p]['gps'][1])\n",
    "        long_lat_dict[\"Latitude\"].append(rev_data[p]['gps'][0])\n",
    "        lat_lon.append((rev_data[p]['gps'][1], rev_data[p]['gps'][0]))\n",
    "    df = pd.DataFrame(long_lat_dict)\n",
    "    df.plot(x=\"Longitude\", y=\"Latitude\", kind=\"scatter\", c=\"red\",\n",
    "        colormap=\"YlOrRd\")"
   ]
  },
  {
   "cell_type": "code",
   "execution_count": 20,
   "id": "76fde3c4",
   "metadata": {},
   "outputs": [],
   "source": [
    "def plot_ratings_over_time(rev_data):\n",
    "    rating_dict = defaultdict(list)\n",
    "    for i in tqdm(range(len(rev_data))):\n",
    "        date = datetime.fromtimestamp(rev_data[i]['unixReviewTime'])\n",
    "        month = int(date.month)\n",
    "        year = int(date.year)\n",
    "        if (year < 2004):\n",
    "            continue\n",
    "        updated_date = datetime(year, month, 1)\n",
    "        rating_dict[updated_date].append(rev_data[i]['rating'])\n",
    "    date_vals = []\n",
    "    for y in tqdm(rating_dict):\n",
    "        nvals = len(rating_dict[y])\n",
    "        date_vals.append((y, sum(rating_dict[y])/nvals))\n",
    "    date_vals.sort()\n",
    "    # plot of ratings over time\n",
    "    dates = [y[0] for y in date_vals]\n",
    "    ratings = [y[1] for y in date_vals]\n",
    "    plt.plot(dates, ratings)\n",
    "    # number of points per year filter on that: less points before 2013\n",
    "\n"
   ]
  },
  {
   "cell_type": "code",
   "execution_count": 21,
   "id": "01adfad5",
   "metadata": {},
   "outputs": [],
   "source": [
    "def plot_data_every_year(rev_data):\n",
    "    year_count_dict = defaultdict(int)\n",
    "    for i in tqdm(range(len(rev_data))):\n",
    "        date = datetime.fromtimestamp(rev_data[i]['unixReviewTime'])\n",
    "        year = int(date.year)\n",
    "        year_count_dict[year] += 1\n",
    "    year_counts = []\n",
    "    for y in year_count_dict:\n",
    "        year_counts.append((y, year_count_dict[y]))\n",
    "    year_counts.sort()\n",
    "    bar = plt.bar([y[0] for y in year_counts] , [y[1] for y in year_counts], width = 0.5)\n",
    "    plt.xticks(rotation = 75)\n",
    "    plt.show()"
   ]
  },
  {
   "cell_type": "code",
   "execution_count": 22,
   "id": "d237a992",
   "metadata": {},
   "outputs": [],
   "source": [
    "def plot_item_stats(usersPerItem, ratingsDict):\n",
    "    itemStats = defaultdict(tuple)\n",
    "    avgItemRatings = defaultdict(float)\n",
    "    totalItemCounts = defaultdict(int)\n",
    "    greater100_item = 0\n",
    "    for i in tqdm(usersPerItem):\n",
    "        users = usersPerItem[i]\n",
    "        totalItemCounts[i] = len(users)\n",
    "        if (len(users) >= 50):\n",
    "            greater100_item += 1\n",
    "        sum_rat = 0\n",
    "        for u in users:\n",
    "            sum_rat += ratingsDict[(u,i)]\n",
    "\n",
    "        avgItemRatings[i] = sum_rat/len(users)\n",
    "    avgs_i_lis = []\n",
    "    total_i_lis = []\n",
    "    for i in tqdm(avgItemRatings):\n",
    "        avgs_i_lis.append(avgItemRatings[i])\n",
    "        total_i_lis.append(totalItemCounts[i])\n",
    "    plt.scatter(avgs_i_lis, total_i_lis, c =\"red\")\n",
    "    plt.show()"
   ]
  },
  {
   "cell_type": "code",
   "execution_count": 23,
   "id": "82692bef",
   "metadata": {},
   "outputs": [],
   "source": [
    "def plot_user_stats(itemsPerUser,ratingsDict):\n",
    "    userStats = defaultdict(tuple)\n",
    "\n",
    "    avgUserRatings = defaultdict(float)\n",
    "    totalUserCounts = defaultdict(int)\n",
    "    greater100_user = 0\n",
    "    for u in tqdm(itemsPerUser):\n",
    "        items = itemsPerUser[u]\n",
    "        totalUserCounts[u] = len(items)\n",
    "        if (len(items) >= 50):\n",
    "            greater100_user += 1\n",
    "        sum_rat = 0\n",
    "        for i in items:\n",
    "            sum_rat += ratingsDict[(u,i)]\n",
    "\n",
    "        avgUserRatings[u] = sum_rat/len(items)\n",
    "        \n",
    "    avgs_u_lis = []\n",
    "    total_u_lis = []\n",
    "    for u in tqdm(avgUserRatings):\n",
    "        avgs_u_lis.append(avgUserRatings[u])\n",
    "        total_u_lis.append(totalUserCounts[u])\n",
    "    plt.scatter(avgs_u_lis, total_u_lis, c =\"red\")\n",
    "    plt.show()"
   ]
  },
  {
   "cell_type": "code",
   "execution_count": 24,
   "id": "5e0d6f57",
   "metadata": {},
   "outputs": [],
   "source": [
    "def plot_country_interactions(places_demog, rev_data):\n",
    "    place_country_dict = {}\n",
    "    for p, country in places_demog:\n",
    "        place_country_dict[p] = country\n",
    "    country_count = defaultdict(int)\n",
    "    for d in tqdm(rev_data):\n",
    "        place_id = d['gPlusPlaceId']\n",
    "        if place_id not in place_country_dict:\n",
    "            continue\n",
    "        country_count[place_country_dict[place_id]] += 1\n",
    "    \n",
    "    countries_tups = []\n",
    "    for c in country_count:\n",
    "        countries_tups.append((c, country_count[c]))\n",
    "    countries_tups.sort(key=lambda x : x[1], reverse=True)\n",
    "    print(countries_tups[:10])\n",
    "    bar = plt.bar([y[0] for y in countries_tups[:10]] , [y[1] for y in countries_tups[:10]], width = 0.5)\n",
    "    plt.xticks(rotation = 75)\n",
    "    plt.show()\n",
    "    return country_count"
   ]
  },
  {
   "cell_type": "code",
   "execution_count": null,
   "id": "160761fa",
   "metadata": {},
   "outputs": [
    {
     "name": "stderr",
     "output_type": "stream",
     "text": [
      " 12%|███▍                         | 1234525/10484628 [02:00<02:42, 56787.64it/s]"
     ]
    }
   ],
   "source": [
    "usersPerItem_whole, itemsPerUser_whole, ratingsDict_whole = user_item_interactions(modified_reviews_data)\n",
    "categories_count_lis_whole = get_categories_count(modified_reviews_data)"
   ]
  },
  {
   "cell_type": "code",
   "execution_count": null,
   "id": "0365e403",
   "metadata": {},
   "outputs": [],
   "source": [
    "plot_top_categories(categories_count_lis_whole)"
   ]
  },
  {
   "cell_type": "code",
   "execution_count": null,
   "id": "6c3a1786",
   "metadata": {},
   "outputs": [],
   "source": [
    "plot_ratings_over_time(modified_reviews_data)"
   ]
  },
  {
   "cell_type": "code",
   "execution_count": null,
   "id": "64cf4fc4",
   "metadata": {},
   "outputs": [],
   "source": [
    "len(modified_reviews_data)"
   ]
  },
  {
   "cell_type": "code",
   "execution_count": null,
   "id": "f8cb71a3",
   "metadata": {},
   "outputs": [],
   "source": [
    "plot_data_every_year(modified_reviews_data)"
   ]
  },
  {
   "cell_type": "code",
   "execution_count": null,
   "id": "4482a421",
   "metadata": {},
   "outputs": [],
   "source": [
    "cc = plot_country_interactions(place_demog, modified_reviews_data)"
   ]
  },
  {
   "cell_type": "code",
   "execution_count": null,
   "id": "adb10d66",
   "metadata": {},
   "outputs": [],
   "source": [
    "plot_item_stats(usersPerItem_whole, ratingsDict_whole)"
   ]
  },
  {
   "cell_type": "code",
   "execution_count": null,
   "id": "1a0f6b06",
   "metadata": {},
   "outputs": [],
   "source": [
    "plot_user_stats(itemsPerUser_whole, ratingsDict_whole)"
   ]
  },
  {
   "cell_type": "code",
   "execution_count": null,
   "id": "c90cf544",
   "metadata": {},
   "outputs": [],
   "source": [
    "usersPerItem_us, itemsPerUser_us, ratingsDict_us = user_item_interactions(us_reviews_data)"
   ]
  },
  {
   "cell_type": "code",
   "execution_count": null,
   "id": "fa7efa85",
   "metadata": {},
   "outputs": [],
   "source": [
    "categories_count_lis_us = get_categories_count(us_reviews_data)"
   ]
  },
  {
   "cell_type": "code",
   "execution_count": null,
   "id": "6d596d2a",
   "metadata": {},
   "outputs": [],
   "source": [
    "plot_top_categories(categories_count_lis_us)"
   ]
  },
  {
   "cell_type": "code",
   "execution_count": null,
   "id": "133546c0",
   "metadata": {},
   "outputs": [],
   "source": [
    "plot_ratings_over_time(us_reviews_data)"
   ]
  },
  {
   "cell_type": "code",
   "execution_count": null,
   "id": "312e158d",
   "metadata": {},
   "outputs": [],
   "source": [
    "plot_data_every_year(us_reviews_data)"
   ]
  },
  {
   "cell_type": "code",
   "execution_count": null,
   "id": "655dab44",
   "metadata": {},
   "outputs": [],
   "source": [
    "plot_item_stats(usersPerItem_us, ratingsDict_us)"
   ]
  },
  {
   "cell_type": "code",
   "execution_count": null,
   "id": "48418e54",
   "metadata": {},
   "outputs": [],
   "source": [
    "plot_user_stats(itemsPerUser_us, ratingsDict_us)"
   ]
  },
  {
   "cell_type": "code",
   "execution_count": null,
   "id": "fb6a6e9a",
   "metadata": {},
   "outputs": [],
   "source": [
    "len(us_reviews_data)"
   ]
  },
  {
   "cell_type": "code",
   "execution_count": null,
   "id": "e99a197f",
   "metadata": {},
   "outputs": [],
   "source": []
  },
  {
   "cell_type": "code",
   "execution_count": null,
   "id": "ae6e5fea",
   "metadata": {},
   "outputs": [],
   "source": []
  },
  {
   "cell_type": "code",
   "execution_count": null,
   "id": "8e5ac141",
   "metadata": {},
   "outputs": [],
   "source": []
  }
 ],
 "metadata": {
  "kernelspec": {
   "display_name": "Python 3 (ipykernel)",
   "language": "python",
   "name": "python3"
  },
  "language_info": {
   "codemirror_mode": {
    "name": "ipython",
    "version": 3
   },
   "file_extension": ".py",
   "mimetype": "text/x-python",
   "name": "python",
   "nbconvert_exporter": "python",
   "pygments_lexer": "ipython3",
   "version": "3.9.12"
  }
 },
 "nbformat": 4,
 "nbformat_minor": 5
}
