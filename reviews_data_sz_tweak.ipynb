{
 "cells": [
  {
   "cell_type": "code",
   "execution_count": 4,
   "id": "70740d3b",
   "metadata": {},
   "outputs": [],
   "source": [
    "import gzip\n",
    "from tqdm import tqdm, trange\n",
    "import pandas as pd\n",
    "from shapely.geometry import Point\n",
    "import geopandas as gpd\n",
    "from geopandas import GeoDataFrame\n",
    "import folium\n",
    "import pickle\n",
    "from collections import defaultdict\n",
    "from datetime import datetime\n",
    "import matplotlib.pyplot as plt"
   ]
  },
  {
   "cell_type": "code",
   "execution_count": 5,
   "id": "b492b5a2",
   "metadata": {},
   "outputs": [],
   "source": [
    "places_file = \"places.clean.json.gz\"\n",
    "users_file = \"users.clean.json.gz\"\n",
    "reviews_file = \"reviews.clean.json.gz\"\n",
    "\n",
    "user_demog_file = \"user_deomograhics.pkl\"\n",
    "bus_demog_file = \"business_deomograhics.pkl\""
   ]
  },
  {
   "cell_type": "code",
   "execution_count": 6,
   "id": "1e0fee59",
   "metadata": {},
   "outputs": [],
   "source": [
    "def parse(path):\n",
    "    g = gzip.open(path, 'r')\n",
    "    for l in g:\n",
    "        yield eval(l)\n",
    "\n"
   ]
  },
  {
   "cell_type": "code",
   "execution_count": null,
   "id": "7b7a2f7c",
   "metadata": {},
   "outputs": [],
   "source": [
    "places_data = []\n",
    "nrec = 0\n",
    "for l in tqdm(parse(places_file)):\n",
    "    # if nrec == 5:\n",
    "    #     break\n",
    "    places_data.append(l)\n",
    "    nrec += 1"
   ]
  },
  {
   "cell_type": "code",
   "execution_count": null,
   "id": "ec44cfe6",
   "metadata": {},
   "outputs": [],
   "source": [
    "users_data = []\n",
    "\n",
    "nrec = 0\n",
    "for l in tqdm(parse(users_file)):\n",
    "    if nrec == 5:\n",
    "        break\n",
    "    users_data.append(l)\n",
    "    nrec += 1"
   ]
  },
  {
   "cell_type": "code",
   "execution_count": 7,
   "id": "19bf6f70",
   "metadata": {},
   "outputs": [
    {
     "name": "stderr",
     "output_type": "stream",
     "text": [
      "11453845it [04:45, 40177.15it/s]\n"
     ]
    }
   ],
   "source": [
    "reviews_data = []\n",
    "for l in tqdm(parse(reviews_file)):\n",
    "    reviews_data.append(l)"
   ]
  },
  {
   "cell_type": "code",
   "execution_count": null,
   "id": "009b2273",
   "metadata": {},
   "outputs": [],
   "source": []
  },
  {
   "cell_type": "code",
   "execution_count": null,
   "id": "c2f3ec48",
   "metadata": {},
   "outputs": [],
   "source": [
    "with open(user_demog_file, 'rb') as f:\n",
    "    user_demog = pickle.load(f)\n"
   ]
  },
  {
   "cell_type": "code",
   "execution_count": 11,
   "id": "5ded5f1c",
   "metadata": {},
   "outputs": [],
   "source": [
    "\n",
    "with open(bus_demog_file, 'rb') as f:\n",
    "    place_demog = pickle.load(f)\n",
    "\n",
    "place_country_dict = dict()\n",
    "for p, country in place_demog:\n",
    "    place_country_dict[p] = country"
   ]
  },
  {
   "cell_type": "code",
   "execution_count": 9,
   "id": "0e072f05",
   "metadata": {},
   "outputs": [
    {
     "name": "stderr",
     "output_type": "stream",
     "text": [
      "100%|██████████████████████████████████████████████████████████████████████████████████████████████████████████| 11453845/11453845 [00:17<00:00, 637270.07it/s]\n"
     ]
    }
   ],
   "source": [
    "modified_reviews_data = []\n",
    "for d in tqdm(reviews_data):\n",
    "    if remove_review(d):\n",
    "        continue\n",
    "    else:\n",
    "        modified_reviews_data.append(d)"
   ]
  },
  {
   "cell_type": "code",
   "execution_count": 12,
   "id": "2fe64dfb",
   "metadata": {},
   "outputs": [
    {
     "name": "stderr",
     "output_type": "stream",
     "text": [
      "100%|██████████████████████████████████████████████████████████████████████████████████████████████████████████| 10484628/10484628 [00:16<00:00, 617314.17it/s]\n"
     ]
    }
   ],
   "source": [
    "us_reviews_data = []\n",
    "for d in tqdm(modified_reviews_data):\n",
    "    if is_place_in_us(d, place_country_dict):\n",
    "        us_reviews_data.append(d)"
   ]
  },
  {
   "cell_type": "code",
   "execution_count": 13,
   "id": "8aa89a8e",
   "metadata": {},
   "outputs": [
    {
     "data": {
      "text/plain": [
       "4896184"
      ]
     },
     "execution_count": 13,
     "metadata": {},
     "output_type": "execute_result"
    }
   ],
   "source": [
    "len(us_reviews_data)"
   ]
  },
  {
   "cell_type": "code",
   "execution_count": 17,
   "id": "35bafabb",
   "metadata": {},
   "outputs": [],
   "source": [
    "def user_item_interactions(rev_data):\n",
    "    usersPerItem = defaultdict(set)\n",
    "    itemsPerUser = defaultdict(set)\n",
    "    ratingsDict = defaultdict(float)\n",
    "    reviewsPerUser = defaultdict(list)\n",
    "    for d in tqdm(rev_data):\n",
    "        u = d['gPlusUserId']\n",
    "        i = d['gPlusPlaceId']\n",
    "        ratingsDict[(u,i)] = d['rating']\n",
    "        usersPerItem[i].add(u)\n",
    "        itemsPerUser[u].add(i)\n",
    "        reviewsPerUser[u].append(d)\n",
    "    return usersPerItem, itemsPerUser, reviewsPerUser, ratingsDict"
   ]
  },
  {
   "cell_type": "code",
   "execution_count": 18,
   "id": "ea00dbd9",
   "metadata": {},
   "outputs": [
    {
     "name": "stderr",
     "output_type": "stream",
     "text": [
      "100%|████████████████████████████████████████████████████████████████████████████████████████████████████████████| 4896184/4896184 [00:20<00:00, 241975.32it/s]\n"
     ]
    }
   ],
   "source": [
    "usersPerItem_us, itemsPerUser_us, reviewsPerUser_us, ratingsDict_us = user_item_interactions(us_reviews_data)"
   ]
  },
  {
   "cell_type": "code",
   "execution_count": 47,
   "id": "18f5a774",
   "metadata": {},
   "outputs": [],
   "source": [
    "def get_updated_reviews(reviewsPerUser_us, n_review_threshold):\n",
    "    us_mod_reviews_train = []\n",
    "    us_mod_reviews_test = []\n",
    "    for u in tqdm(reviewsPerUser_us):\n",
    "        if (len(reviewsPerUser_us[u]) >= n_review_threshold):\n",
    "            nelems_train = int(0.8 * len(reviewsPerUser_us[u]))\n",
    "            us_mod_reviews_train.extend(reviewsPerUser_us[u][:nelems_train])\n",
    "            us_mod_reviews_test.extend(reviewsPerUser_us[u][nelems_train:])\n",
    "    return us_mod_reviews_train, us_mod_reviews_test"
   ]
  },
  {
   "cell_type": "code",
   "execution_count": 48,
   "id": "750fc45b",
   "metadata": {},
   "outputs": [
    {
     "name": "stderr",
     "output_type": "stream",
     "text": [
      "100%|███████████████████████████████████████████████████████████████████████████████████████████████████████████| 2209516/2209516 [00:00<00:00, 2598172.30it/s]\n"
     ]
    }
   ],
   "source": [
    "us_mod_reviews_train, us_mod_reviews_test = get_updated_reviews(reviewsPerUser_us, 20)"
   ]
  },
  {
   "cell_type": "code",
   "execution_count": 49,
   "id": "e03c5ca0",
   "metadata": {},
   "outputs": [
    {
     "data": {
      "text/plain": [
       "737120"
      ]
     },
     "execution_count": 49,
     "metadata": {},
     "output_type": "execute_result"
    }
   ],
   "source": [
    "len(us_mod_reviews_train)"
   ]
  },
  {
   "cell_type": "code",
   "execution_count": 50,
   "id": "58b90260",
   "metadata": {},
   "outputs": [
    {
     "data": {
      "text/plain": [
       "194390"
      ]
     },
     "execution_count": 50,
     "metadata": {},
     "output_type": "execute_result"
    }
   ],
   "source": [
    "len(us_mod_reviews_test)"
   ]
  },
  {
   "cell_type": "code",
   "execution_count": null,
   "id": "95c56887",
   "metadata": {},
   "outputs": [
    {
     "name": "stderr",
     "output_type": "stream",
     "text": [
      "  3%|███▋                                                                                                           | 24687/737120 [00:00<00:05, 140288.05it/s]"
     ]
    }
   ],
   "source": [
    "usersPerItem_us, itemsPerUser_us, reviewsPerUser_us, ratingsDict_us = user_item_interactions(us_mod_reviews_train)"
   ]
  },
  {
   "cell_type": "code",
   "execution_count": null,
   "id": "26a4fb19",
   "metadata": {},
   "outputs": [],
   "source": []
  },
  {
   "cell_type": "code",
   "execution_count": null,
   "id": "6d12a0d4",
   "metadata": {},
   "outputs": [],
   "source": []
  },
  {
   "cell_type": "code",
   "execution_count": null,
   "id": "54639cb4",
   "metadata": {},
   "outputs": [],
   "source": []
  }
 ],
 "metadata": {
  "kernelspec": {
   "display_name": "Python 3 (ipykernel)",
   "language": "python",
   "name": "python3"
  },
  "language_info": {
   "codemirror_mode": {
    "name": "ipython",
    "version": 3
   },
   "file_extension": ".py",
   "mimetype": "text/x-python",
   "name": "python",
   "nbconvert_exporter": "python",
   "pygments_lexer": "ipython3",
   "version": "3.10.8"
  }
 },
 "nbformat": 4,
 "nbformat_minor": 5
}
